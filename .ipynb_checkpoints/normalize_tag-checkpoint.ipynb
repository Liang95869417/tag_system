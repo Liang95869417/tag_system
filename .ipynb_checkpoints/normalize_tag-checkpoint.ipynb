{
 "cells": [
  {
   "cell_type": "code",
   "execution_count": 3,
   "id": "01c44789-3569-4fd8-9847-8ce73b95be82",
   "metadata": {},
   "outputs": [],
   "source": [
    "import numpy\n",
    "import pandas as pd\n",
    "import json"
   ]
  },
  {
   "cell_type": "code",
   "execution_count": 4,
   "id": "b44860ba-9870-4acf-9dbd-ea5865ba872b",
   "metadata": {},
   "outputs": [],
   "source": [
    "with open('article_tags.json', 'r') as f:\n",
    "    data = json.load(f)"
   ]
  },
  {
   "cell_type": "code",
   "execution_count": 6,
   "id": "226f0521-cc86-4606-8b1a-8b459f6a2d77",
   "metadata": {},
   "outputs": [],
   "source": [
    "# change all tags in format of capitalized to remove duplicates like 2020 Bulkers /2020 bulkers\n",
    "tags_new = []\n",
    "for item in data:\n",
    "    splitted = item.split()\n",
    "    if len(splitted) > 1:\n",
    "        splitted_cap = [w.capitalize() for w in splitted]\n",
    "        new = \" \".join(splitted_cap)\n",
    "        tags_new.append(new)\n",
    "    else:\n",
    "        new = item.capitalize()\n",
    "        tags_new.append(new)\n",
    "        \n",
    "        "
   ]
  },
  {
   "cell_type": "code",
   "execution_count": 9,
   "id": "9cc60d33-6b30-4a54-a3f4-2d5c6260a73f",
   "metadata": {},
   "outputs": [],
   "source": [
    "tags_new = list(set(tags_new))"
   ]
  },
  {
   "cell_type": "code",
   "execution_count": 10,
   "id": "3d438b84-7859-43d1-9814-fedc41a45d9b",
   "metadata": {},
   "outputs": [],
   "source": [
    "with open('article_tags_new.json', 'w') as f:\n",
    "    json.dump(tags_new, f)"
   ]
  }
 ],
 "metadata": {
  "kernelspec": {
   "display_name": "Python 3 (ipykernel)",
   "language": "python",
   "name": "python3"
  },
  "language_info": {
   "codemirror_mode": {
    "name": "ipython",
    "version": 3
   },
   "file_extension": ".py",
   "mimetype": "text/x-python",
   "name": "python",
   "nbconvert_exporter": "python",
   "pygments_lexer": "ipython3",
   "version": "3.8.10"
  }
 },
 "nbformat": 4,
 "nbformat_minor": 5
}
